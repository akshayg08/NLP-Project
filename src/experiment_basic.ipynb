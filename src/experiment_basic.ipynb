{
 "cells": [
  {
   "cell_type": "code",
   "execution_count": 48,
   "metadata": {},
   "outputs": [],
   "source": [
    "import pickle\n",
    "import time\n",
    "import numpy as np\n",
    "\n",
    "import seaborn as sns\n",
    "import matplotlib.pyplot as plt"
   ]
  },
  {
   "cell_type": "markdown",
   "metadata": {},
   "source": [
    "### Creating helper functions to run the experiment"
   ]
  },
  {
   "cell_type": "code",
   "execution_count": 49,
   "metadata": {},
   "outputs": [],
   "source": [
    "# Normalizing the sorted_MX and sorted_MY\n",
    "def normalize(X):\n",
    "\t# length normalization\n",
    "\tx = X/np.linalg.norm(X, axis = 1).reshape(-1, 1)\n",
    "\t# mean centering each dimension\n",
    "\tx = x - x.mean(axis = 0)\n",
    "\t# length normalizing the mean centered data\n",
    "\tx = x/np.linalg.norm(x, axis = 1).reshape(-1, 1)\n",
    "\treturn x\n",
    "\n",
    "# computing sqaure root of similiarity matrices for both the embedding matrices using svd\n",
    "def sim_matrix(X, size):\n",
    "\tu, s, _ = np.linalg.svd(X[:size], full_matrices = False)\n",
    "\treturn np.dot(u*s, u.T)\n",
    "\n",
    "def distance_matrix(X1, Y1):\n",
    "\tnorm_X1 = np.linalg.norm(X1, axis = 1).reshape(-1,1)**2\n",
    "\tb = np.ones((norm_X1.shape[0], norm_X1.shape[1]+1))\n",
    "\tb[:, :-1] = norm_X1\n",
    "\tnorm_X1 = b\n",
    "\n",
    "\tnorm_Y1 = np.linalg.norm(Y1, axis = 1).reshape(-1,1)**2\n",
    "\tb = np.ones((norm_Y1.shape[0], norm_Y1.shape[1]+1))\n",
    "\tb[:, 1:] = norm_Y1\n",
    "\tnorm_Y1 = b\n",
    "\n",
    "\tdot_p = -2*np.matmul(X1, Y1.T)\n",
    "\td_matrix = np.matmul(norm_X1, norm_Y1.T) + dot_p\n",
    "\treturn d_matrix\n",
    "\n",
    "def create_idx2word_dict(vocab):\n",
    "\tidx2word = {}\n",
    "\tfor i in vocab:\n",
    "\t\tidx2word[vocab[i]] = i\n",
    "\n",
    "\treturn idx2word\n",
    "\n",
    "def topk_mean(m, k, inplace=False):\n",
    "\tn = m.shape[0]\n",
    "\tans = np.zeros(n, dtype=m.dtype)\n",
    "\tif k <= 0:\n",
    "\t\treturn ans\n",
    "\tif not inplace:\n",
    "\t\tm = np.array(m)\n",
    "\tind0 = np.arange(n)\n",
    "\tind1 = np.empty(n, dtype=int)\n",
    "\tminimum = m.min()\n",
    "\tfor i in range(k):\n",
    "\t\tm.argmax(axis=1, out=ind1)\n",
    "\t\tans += m[ind0, ind1]\n",
    "\t\tm[ind0, ind1] = minimum\n",
    "\treturn ans / k\n"
   ]
  },
  {
   "cell_type": "markdown",
   "metadata": {},
   "source": [
    "### Step 0: Load seed dictionary for better initialization"
   ]
  },
  {
   "cell_type": "code",
   "execution_count": 50,
   "metadata": {},
   "outputs": [],
   "source": [
    "with open('../data/en-hi.txt') as f:\n",
    "    aligned_words = f.readlines()"
   ]
  },
  {
   "cell_type": "markdown",
   "metadata": {},
   "source": [
    "### Loading hindi english vocabulary and embedding matrices"
   ]
  },
  {
   "cell_type": "code",
   "execution_count": 51,
   "metadata": {},
   "outputs": [],
   "source": [
    "hindi_embedding_matrix = pickle.load(open(\"./hindi_embedding_matrix.pkl\", \"rb\"))\n",
    "english_embedding_matrix = pickle.load(open(\"./english_embedding_matrix.pkl\", \"rb\"))\n",
    "hindi_vocab = pickle.load(open(\"./hindi_vocab.pkl\", \"rb\"))\n",
    "english_vocab = pickle.load(open(\"./english_vocab.pkl\", \"rb\"))\n",
    "\n",
    "hindi_idx2word = create_idx2word_dict(hindi_vocab)\n",
    "english_idx2word = create_idx2word_dict(english_vocab)\n",
    "\n",
    "X = hindi_embedding_matrix\n",
    "Y = english_embedding_matrix\n",
    "D = np.zeros((X.shape[0], Y.shape[0]))\n",
    "\n",
    "\n",
    "for i in aligned_words:\n",
    "\thindi_word = i.strip().split()[1].strip()\n",
    "\tenglish_word = i.strip().split()[0].strip()\n",
    "\n",
    "\tif hindi_word in hindi_vocab and english_word in english_vocab:\n",
    "\t\tD[hindi_vocab[hindi_word], english_vocab[english_word]] = 1\n",
    "\n",
    "\n",
    "SIM_SIZE = min(X.shape[0], Y.shape[0])"
   ]
  },
  {
   "cell_type": "markdown",
   "metadata": {},
   "source": [
    "### Step 1: Normalize Embeddings"
   ]
  },
  {
   "cell_type": "code",
   "execution_count": 52,
   "metadata": {},
   "outputs": [],
   "source": [
    "# normalizing the embeddings\n",
    "X = normalize(X)\n",
    "Y = normalize(Y)"
   ]
  },
  {
   "cell_type": "markdown",
   "metadata": {},
   "source": [
    "### Step 2: Unsupervised Initialization"
   ]
  },
  {
   "cell_type": "code",
   "execution_count": 53,
   "metadata": {},
   "outputs": [],
   "source": [
    "# similarity matrices\n",
    "MX = sim_matrix(X, SIM_SIZE)\n",
    "MY = sim_matrix(Y, SIM_SIZE)\n",
    "\n",
    "# sorting MX and MY along the rows in order to align them along the j dimension\n",
    "sorted_MX = np.sort(MX, axis = 1)\n",
    "sorted_MY = np.sort(MY, axis = 1)\n",
    "\n",
    "# normalized embeddings for extracting alignment across vocabulary(ith dimension)\n",
    "X1 = normalize(sorted_MX)\n",
    "Y1 = normalize(sorted_MY)"
   ]
  },
  {
   "cell_type": "markdown",
   "metadata": {},
   "source": [
    "### Step 3: Self Learning"
   ]
  },
  {
   "cell_type": "code",
   "execution_count": 54,
   "metadata": {},
   "outputs": [
    {
     "name": "stdout",
     "output_type": "stream",
     "text": [
      "Time for training with csls: 162.58551740646362\n"
     ]
    }
   ],
   "source": [
    "# constructing initial solution for the iterative algorithm\n",
    "sim = X1.dot(Y1.T)\n",
    "knn_sim_fwd = topk_mean(sim, k = 7)\n",
    "knn_sim_bwd = topk_mean(sim.T, k = 7)\n",
    "sim -= knn_sim_fwd[:, np.newaxis]/2 + knn_sim_bwd/2\n",
    "\n",
    "nearest_neighbors = sim.argmax(axis = 1)\n",
    "D[range(nearest_neighbors.shape[0]), nearest_neighbors] = 1\n",
    "\n",
    "# training loop\n",
    "num_iter = 30\n",
    "start = time.time()\n",
    "for i in range(num_iter):\n",
    "\t#computing the optimal orthogonal matrix which maximizes the current dict D\n",
    "\tu, s, vh = np.linalg.svd(np.dot(X.T, np.dot(D, Y)))\n",
    "\tWX = u\n",
    "\tWY = vh\n",
    "\n",
    "\t#computing the optimal dictionary using the similarity matrix of the mapped embeddings\n",
    "\tsim = np.dot(X, WX).dot(np.dot(Y, WY).T)\n",
    "\tknn_sim_fwd = topk_mean(sim, k = 7)\n",
    "\tknn_sim_bwd = topk_mean(sim.T, k = 7)\n",
    "\tsim -= knn_sim_fwd[:, np.newaxis]/2 + knn_sim_bwd/2\n",
    "    \n",
    "\tnearest_neighbors = sim.argmax(axis = 1)\n",
    "\tD[range(nearest_neighbors.shape[0]), nearest_neighbors] = 1\n",
    "\n",
    "#final step\n",
    "u, s, vh = np.linalg.svd(np.dot(X.T, np.dot(D, Y)), full_matrices = False)\n",
    "s = np.diag(s)\n",
    "WX = u.dot(np.sqrt(s))\n",
    "WY = vh.dot(np.sqrt(s))\n",
    "print(\"Time for training with csls:\", time.time() - start)\n",
    "\n",
    "#testing\n",
    "sim = np.dot(X, WX).dot(np.dot(Y, WY).T)\n",
    "knn_sim_fwd = topk_mean(sim, k = 7)\n",
    "knn_sim_bwd = topk_mean(sim.T, k = 7)\n",
    "sim -= knn_sim_fwd[:, np.newaxis]/2 + knn_sim_bwd/2\n",
    "\n",
    "nearest_neighbors = sim.argmax(axis = 1)"
   ]
  },
  {
   "cell_type": "code",
   "execution_count": 55,
   "metadata": {},
   "outputs": [
    {
     "name": "stdout",
     "output_type": "stream",
     "text": [
      "Saving the embeddings onto transformed space\n"
     ]
    }
   ],
   "source": [
    "embed_X = normalize(np.dot(X, WX))\n",
    "embed_Y = normalize(np.dot(Y, WY))\n",
    "\n",
    "print('Saving the embeddings onto transformed space')\n",
    "with open('en_tform.pkl', 'wb') as f:\n",
    "    pickle.dump(embed_Y, f)\n",
    "\n",
    "with open('hi_tform.pkl', 'wb') as f:\n",
    "    pickle.dump(embed_X, f)"
   ]
  },
  {
   "cell_type": "code",
   "execution_count": null,
   "metadata": {},
   "outputs": [],
   "source": []
  },
  {
   "cell_type": "code",
   "execution_count": 46,
   "metadata": {},
   "outputs": [
    {
     "data": {
      "text/plain": [
       "array([[-8.44328928e-02,  8.71038026e-01, -1.31364320e-01, ...,\n",
       "        -8.93797235e-07, -3.89613565e-06, -5.43103403e-07],\n",
       "       [-4.03411047e-01,  5.45980482e-01, -4.77923581e-01, ...,\n",
       "         6.81481224e-06,  1.94445115e-07,  1.20886575e-05],\n",
       "       [-7.62161454e-01,  5.18446584e-01, -2.12758610e-01, ...,\n",
       "         3.68503543e-07, -7.65005926e-07, -1.06128590e-06],\n",
       "       ...,\n",
       "       [ 8.41418846e-01,  1.20243442e-01,  2.61985269e-01, ...,\n",
       "        -5.81698370e-06,  6.39187553e-07,  3.51461376e-08],\n",
       "       [ 3.26863106e-01, -9.15985702e-01, -1.41844579e-02, ...,\n",
       "        -2.77441024e-06, -9.62047693e-07, -3.33326252e-07],\n",
       "       [-2.84899525e-02, -9.55368186e-01, -2.12263052e-01, ...,\n",
       "        -3.11657928e-07,  1.93479287e-06,  6.82460778e-07]])"
      ]
     },
     "execution_count": 46,
     "metadata": {},
     "output_type": "execute_result"
    }
   ],
   "source": [
    "normalize(embed_X)"
   ]
  },
  {
   "cell_type": "code",
   "execution_count": null,
   "metadata": {},
   "outputs": [],
   "source": []
  },
  {
   "cell_type": "code",
   "execution_count": null,
   "metadata": {},
   "outputs": [],
   "source": []
  },
  {
   "cell_type": "code",
   "execution_count": null,
   "metadata": {},
   "outputs": [],
   "source": []
  },
  {
   "cell_type": "code",
   "execution_count": 18,
   "metadata": {},
   "outputs": [
    {
     "name": "stdout",
     "output_type": "stream",
     "text": [
      "कोई fallopian\n",
      "भी jews\n",
      "बीमारी lucky\n",
      "होने grows\n",
      "पर written\n",
      "नियमित size\n",
      "चेकअप looks\n",
      "कराएँ sins\n",
      ", safely\n",
      "लापरवाही kuchh\n"
     ]
    }
   ],
   "source": [
    "for i in range(10):\n",
    "    print(hindi_idx2word[i], english_idx2word[nearest_neighbors[i]])"
   ]
  },
  {
   "cell_type": "code",
   "execution_count": null,
   "metadata": {},
   "outputs": [],
   "source": []
  },
  {
   "cell_type": "code",
   "execution_count": null,
   "metadata": {},
   "outputs": [],
   "source": []
  },
  {
   "cell_type": "code",
   "execution_count": null,
   "metadata": {},
   "outputs": [],
   "source": []
  },
  {
   "cell_type": "code",
   "execution_count": null,
   "metadata": {},
   "outputs": [],
   "source": []
  },
  {
   "cell_type": "code",
   "execution_count": 19,
   "metadata": {},
   "outputs": [],
   "source": [
    "word_pairs = [\n",
    "    ['और', 'and'],\n",
    "    ['उसकी', 'his'],\n",
    "#     ['उसकी', 'and']\n",
    "#     ['यहूद', 'were'],\n",
    "#     ['लेख', 'article'],\n",
    "]"
   ]
  },
  {
   "cell_type": "markdown",
   "metadata": {},
   "source": [
    "## Visualisation"
   ]
  },
  {
   "cell_type": "code",
   "execution_count": 20,
   "metadata": {},
   "outputs": [
    {
     "name": "stderr",
     "output_type": "stream",
     "text": [
      "/home/zubair/anaconda3/envs/NLP/lib/python3.6/site-packages/matplotlib/backends/backend_agg.py:211: RuntimeWarning: Glyph 2324 missing from current font.\n",
      "  font.set_text(s, 0.0, flags=flags)\n",
      "/home/zubair/anaconda3/envs/NLP/lib/python3.6/site-packages/matplotlib/backends/backend_agg.py:211: RuntimeWarning: Glyph 2352 missing from current font.\n",
      "  font.set_text(s, 0.0, flags=flags)\n",
      "/home/zubair/anaconda3/envs/NLP/lib/python3.6/site-packages/matplotlib/backends/backend_agg.py:180: RuntimeWarning: Glyph 2324 missing from current font.\n",
      "  font.set_text(s, 0, flags=flags)\n",
      "/home/zubair/anaconda3/envs/NLP/lib/python3.6/site-packages/matplotlib/backends/backend_agg.py:180: RuntimeWarning: Glyph 2352 missing from current font.\n",
      "  font.set_text(s, 0, flags=flags)\n"
     ]
    },
    {
     "data": {
      "image/png": "[encoded data removed]",
      "text/plain": [
       "<Figure size 432x288 with 2 Axes>"
      ]
     },
     "metadata": {
      "needs_background": "light"
     },
     "output_type": "display_data"
    },
    {
     "name": "stderr",
     "output_type": "stream",
     "text": [
      "/home/zubair/anaconda3/envs/NLP/lib/python3.6/site-packages/matplotlib/backends/backend_agg.py:211: RuntimeWarning: Glyph 2313 missing from current font.\n",
      "  font.set_text(s, 0.0, flags=flags)\n",
      "/home/zubair/anaconda3/envs/NLP/lib/python3.6/site-packages/matplotlib/backends/backend_agg.py:211: RuntimeWarning: Glyph 2360 missing from current font.\n",
      "  font.set_text(s, 0.0, flags=flags)\n",
      "/home/zubair/anaconda3/envs/NLP/lib/python3.6/site-packages/matplotlib/backends/backend_agg.py:211: RuntimeWarning: Glyph 2325 missing from current font.\n",
      "  font.set_text(s, 0.0, flags=flags)\n",
      "/home/zubair/anaconda3/envs/NLP/lib/python3.6/site-packages/matplotlib/backends/backend_agg.py:211: RuntimeWarning: Glyph 2368 missing from current font.\n",
      "  font.set_text(s, 0.0, flags=flags)\n",
      "/home/zubair/anaconda3/envs/NLP/lib/python3.6/site-packages/matplotlib/backends/backend_agg.py:180: RuntimeWarning: Glyph 2313 missing from current font.\n",
      "  font.set_text(s, 0, flags=flags)\n",
      "/home/zubair/anaconda3/envs/NLP/lib/python3.6/site-packages/matplotlib/backends/backend_agg.py:180: RuntimeWarning: Glyph 2360 missing from current font.\n",
      "  font.set_text(s, 0, flags=flags)\n",
      "/home/zubair/anaconda3/envs/NLP/lib/python3.6/site-packages/matplotlib/backends/backend_agg.py:180: RuntimeWarning: Glyph 2325 missing from current font.\n",
      "  font.set_text(s, 0, flags=flags)\n",
      "/home/zubair/anaconda3/envs/NLP/lib/python3.6/site-packages/matplotlib/backends/backend_agg.py:180: RuntimeWarning: Glyph 2368 missing from current font.\n",
      "  font.set_text(s, 0, flags=flags)\n"
     ]
    },
    {
     "data": {
      "image/png": "[encoded data removed]",
      "text/plain": [
       "<Figure size 432x288 with 2 Axes>"
      ]
     },
     "metadata": {
      "needs_background": "light"
     },
     "output_type": "display_data"
    }
   ],
   "source": [
    "for hi, en in word_pairs:\n",
    "    hi_index = hindi_vocab[hi]\n",
    "    en_index = english_vocab[en]\n",
    "    \n",
    "    hi_mean = sorted_MX[hi_index]\n",
    "    en_mean = sorted_MY[en_index]\n",
    "    \n",
    "    plt.subplot(1,2,1)\n",
    "    plt.title('Distribution for {0}'.format(hi))\n",
    "    plt.plot(hi_mean)\n",
    "    \n",
    "    plt.subplot(1,2,2)\n",
    "    plt.title('Distribution for {0}'.format(en))\n",
    "    plt.plot(en_mean)\n",
    "    \n",
    "    plt.show()"
   ]
  },
  {
   "cell_type": "code",
   "execution_count": null,
   "metadata": {},
   "outputs": [],
   "source": []
  },
  {
   "cell_type": "code",
   "execution_count": null,
   "metadata": {},
   "outputs": [],
   "source": []
  },
  {
   "cell_type": "code",
   "execution_count": 31,
   "metadata": {},
   "outputs": [
    {
     "data": {
      "text/plain": [
       "(10140, 100)"
      ]
     },
     "execution_count": 31,
     "metadata": {},
     "output_type": "execute_result"
    }
   ],
   "source": [
    "X.shape"
   ]
  },
  {
   "cell_type": "code",
   "execution_count": 32,
   "metadata": {},
   "outputs": [
    {
     "data": {
      "text/plain": [
       "(100, 100)"
      ]
     },
     "execution_count": 32,
     "metadata": {},
     "output_type": "execute_result"
    }
   ],
   "source": [
    "WX.shape"
   ]
  },
  {
   "cell_type": "code",
   "execution_count": 33,
   "metadata": {},
   "outputs": [
    {
     "data": {
      "text/plain": [
       "(8516, 100)"
      ]
     },
     "execution_count": 33,
     "metadata": {},
     "output_type": "execute_result"
    }
   ],
   "source": [
    "Y.shape"
   ]
  },
  {
   "cell_type": "code",
   "execution_count": 34,
   "metadata": {},
   "outputs": [
    {
     "data": {
      "text/plain": [
       "(100, 100)"
      ]
     },
     "execution_count": 34,
     "metadata": {},
     "output_type": "execute_result"
    }
   ],
   "source": [
    "WY.shape"
   ]
  },
  {
   "cell_type": "code",
   "execution_count": null,
   "metadata": {},
   "outputs": [],
   "source": []
  },
  {
   "cell_type": "code",
   "execution_count": null,
   "metadata": {},
   "outputs": [],
   "source": []
  },
  {
   "cell_type": "markdown",
   "metadata": {},
   "source": [
    "## Evaluation\n",
    "### Intrinsic"
   ]
  },
  {
   "cell_type": "code",
   "execution_count": null,
   "metadata": {},
   "outputs": [],
   "source": []
  },
  {
   "cell_type": "code",
   "execution_count": 44,
   "metadata": {},
   "outputs": [
    {
     "data": {
      "text/plain": [
       "27.981350492766396"
      ]
     },
     "execution_count": 44,
     "metadata": {},
     "output_type": "execute_result"
    }
   ],
   "source": [
    "cos_sims = []\n",
    "for hi, en in word_pairs:\n",
    "    cos_sims.append(np.dot(embed_X[hindi_vocab[hi]], embed_Y[english_vocab[en]].T))\n",
    "    \n",
    "cos_sims = np.array(cos_sims)\n",
    "np.mean(cos_sims)"
   ]
  },
  {
   "cell_type": "markdown",
   "metadata": {},
   "source": [
    "### Extrinsic"
   ]
  },
  {
   "cell_type": "code",
   "execution_count": 25,
   "metadata": {},
   "outputs": [
    {
     "ename": "FileNotFoundError",
     "evalue": "[Errno 2] No such file or directory: 'en_mod.ft.bin'",
     "output_type": "error",
     "traceback": [
      "\u001b[0;31m---------------------------------------------------------------------------\u001b[0m",
      "\u001b[0;31mFileNotFoundError\u001b[0m                         Traceback (most recent call last)",
      "\u001b[0;32m<ipython-input-25-2245e60ed6a4>\u001b[0m in \u001b[0;36m<module>\u001b[0;34m\u001b[0m\n\u001b[1;32m      2\u001b[0m \u001b[0;32mfrom\u001b[0m \u001b[0mgensim\u001b[0m\u001b[0;34m.\u001b[0m\u001b[0mmodels\u001b[0m\u001b[0;34m.\u001b[0m\u001b[0mwrappers\u001b[0m \u001b[0;32mimport\u001b[0m \u001b[0mFastText\u001b[0m\u001b[0;34m\u001b[0m\u001b[0;34m\u001b[0m\u001b[0m\n\u001b[1;32m      3\u001b[0m \u001b[0;34m\u001b[0m\u001b[0m\n\u001b[0;32m----> 4\u001b[0;31m \u001b[0mmodel\u001b[0m \u001b[0;34m=\u001b[0m \u001b[0mFastText\u001b[0m\u001b[0;34m.\u001b[0m\u001b[0mload_fasttext_format\u001b[0m\u001b[0;34m(\u001b[0m\u001b[0;34m'en_mod.ft'\u001b[0m\u001b[0;34m)\u001b[0m\u001b[0;34m\u001b[0m\u001b[0;34m\u001b[0m\u001b[0m\n\u001b[0m\u001b[1;32m      5\u001b[0m \u001b[0;34m\u001b[0m\u001b[0m\n\u001b[1;32m      6\u001b[0m \u001b[0manalogy_scores\u001b[0m \u001b[0;34m=\u001b[0m \u001b[0mmodel\u001b[0m\u001b[0;34m.\u001b[0m\u001b[0mwv\u001b[0m\u001b[0;34m.\u001b[0m\u001b[0mevaluate_word_analogies\u001b[0m\u001b[0;34m(\u001b[0m\u001b[0mdatapath\u001b[0m\u001b[0;34m(\u001b[0m\u001b[0;34m'questions-words.txt'\u001b[0m\u001b[0;34m)\u001b[0m\u001b[0;34m)\u001b[0m\u001b[0;34m\u001b[0m\u001b[0;34m\u001b[0m\u001b[0m\n",
      "\u001b[0;32m~/anaconda3/envs/NLP/lib/python3.6/site-packages/gensim/models/deprecated/fasttext_wrapper.py\u001b[0m in \u001b[0;36mload_fasttext_format\u001b[0;34m(cls, model_file, encoding)\u001b[0m\n\u001b[1;32m    272\u001b[0m             \u001b[0mmodel_file\u001b[0m \u001b[0;34m+=\u001b[0m \u001b[0;34m'.bin'\u001b[0m\u001b[0;34m\u001b[0m\u001b[0;34m\u001b[0m\u001b[0m\n\u001b[1;32m    273\u001b[0m         \u001b[0mmodel\u001b[0m\u001b[0;34m.\u001b[0m\u001b[0mfile_name\u001b[0m \u001b[0;34m=\u001b[0m \u001b[0mmodel_file\u001b[0m\u001b[0;34m\u001b[0m\u001b[0;34m\u001b[0m\u001b[0m\n\u001b[0;32m--> 274\u001b[0;31m         \u001b[0mmodel\u001b[0m\u001b[0;34m.\u001b[0m\u001b[0mload_binary_data\u001b[0m\u001b[0;34m(\u001b[0m\u001b[0mencoding\u001b[0m\u001b[0;34m=\u001b[0m\u001b[0mencoding\u001b[0m\u001b[0;34m)\u001b[0m\u001b[0;34m\u001b[0m\u001b[0;34m\u001b[0m\u001b[0m\n\u001b[0m\u001b[1;32m    275\u001b[0m         \u001b[0;32mreturn\u001b[0m \u001b[0mmodel\u001b[0m\u001b[0;34m\u001b[0m\u001b[0;34m\u001b[0m\u001b[0m\n\u001b[1;32m    276\u001b[0m \u001b[0;34m\u001b[0m\u001b[0m\n",
      "\u001b[0;32m~/anaconda3/envs/NLP/lib/python3.6/site-packages/gensim/models/deprecated/fasttext_wrapper.py\u001b[0m in \u001b[0;36mload_binary_data\u001b[0;34m(self, encoding)\u001b[0m\n\u001b[1;32m    297\u001b[0m \u001b[0;34m\u001b[0m\u001b[0m\n\u001b[1;32m    298\u001b[0m         \u001b[0;31m# TODO use smart_open again when https://github.com/RaRe-Technologies/smart_open/issues/207 will be fixed\u001b[0m\u001b[0;34m\u001b[0m\u001b[0;34m\u001b[0m\u001b[0;34m\u001b[0m\u001b[0m\n\u001b[0;32m--> 299\u001b[0;31m         \u001b[0;32mwith\u001b[0m \u001b[0mopen\u001b[0m\u001b[0;34m(\u001b[0m\u001b[0mself\u001b[0m\u001b[0;34m.\u001b[0m\u001b[0mfile_name\u001b[0m\u001b[0;34m,\u001b[0m \u001b[0;34m'rb'\u001b[0m\u001b[0;34m)\u001b[0m \u001b[0;32mas\u001b[0m \u001b[0mf\u001b[0m\u001b[0;34m:\u001b[0m\u001b[0;34m\u001b[0m\u001b[0;34m\u001b[0m\u001b[0m\n\u001b[0m\u001b[1;32m    300\u001b[0m             \u001b[0mself\u001b[0m\u001b[0;34m.\u001b[0m\u001b[0mload_model_params\u001b[0m\u001b[0;34m(\u001b[0m\u001b[0mf\u001b[0m\u001b[0;34m)\u001b[0m\u001b[0;34m\u001b[0m\u001b[0;34m\u001b[0m\u001b[0m\n\u001b[1;32m    301\u001b[0m             \u001b[0mself\u001b[0m\u001b[0;34m.\u001b[0m\u001b[0mload_dict\u001b[0m\u001b[0;34m(\u001b[0m\u001b[0mf\u001b[0m\u001b[0;34m,\u001b[0m \u001b[0mencoding\u001b[0m\u001b[0;34m=\u001b[0m\u001b[0mencoding\u001b[0m\u001b[0;34m)\u001b[0m\u001b[0;34m\u001b[0m\u001b[0;34m\u001b[0m\u001b[0m\n",
      "\u001b[0;31mFileNotFoundError\u001b[0m: [Errno 2] No such file or directory: 'en_mod.ft.bin'"
     ]
    }
   ],
   "source": [
    "import os\n",
    "from gensim.test.utils import datapath\n",
    "from gensim.models.wrappers import FastText\n",
    "\n",
    "model = FastText.load_fasttext_format('en_mod.ft')\n",
    "\n",
    "analogy_scores = model.wv.evaluate_word_analogies(datapath('questions-words.txt'))\n",
    "analogy_scores"
   ]
  },
  {
   "cell_type": "code",
   "execution_count": null,
   "metadata": {},
   "outputs": [],
   "source": []
  },
  {
   "cell_type": "code",
   "execution_count": null,
   "metadata": {},
   "outputs": [],
   "source": []
  },
  {
   "cell_type": "code",
   "execution_count": null,
   "metadata": {},
   "outputs": [],
   "source": []
  },
  {
   "cell_type": "code",
   "execution_count": null,
   "metadata": {},
   "outputs": [],
   "source": []
  },
  {
   "cell_type": "code",
   "execution_count": 17,
   "metadata": {},
   "outputs": [
    {
     "data": {
      "text/plain": [
       "array([ 2.3256488 ,  0.50896513, -1.5274669 ,  1.1026577 , -0.05357262,\n",
       "        0.30393177,  1.4275662 , -0.28244844, -2.9586658 , -0.91595656,\n",
       "       -0.16583595,  0.7404793 ,  0.7934876 ,  2.2220814 , -1.2631726 ,\n",
       "        0.6415043 , -0.49462584,  0.47640356,  1.7222499 ,  0.61556995,\n",
       "       -0.69499385,  0.32218835,  1.7107854 ,  0.83875287,  0.9756324 ,\n",
       "        0.3989083 , -0.39384377, -0.4930851 ,  2.140209  ,  1.1703581 ,\n",
       "        0.8674777 , -0.07780394,  0.3114351 , -0.08680315,  0.51912427,\n",
       "       -1.7254441 ,  0.88654363, -0.15668374, -1.1227112 , -0.46340933,\n",
       "        1.8575623 ,  0.88171005,  0.71372926,  0.8834495 , -1.5089967 ,\n",
       "        1.2307827 ,  1.1768324 , -1.4501196 ,  1.9528419 , -0.02040973,\n",
       "        1.9457443 ,  0.07371062,  1.1193316 , -0.04027185, -0.8409392 ,\n",
       "        0.81252795, -0.12733603,  2.2777355 ,  0.03757357,  0.36916438,\n",
       "       -3.083687  ,  0.2645597 ,  0.41451418, -1.0431564 ,  1.0602188 ,\n",
       "        0.10370865,  0.78076315, -0.35207605,  0.88361394,  2.3430622 ,\n",
       "       -0.36445796,  0.9188281 , -1.2026205 ,  0.24510494,  0.55928373,\n",
       "        1.2829971 , -0.35489973, -1.3453627 ,  0.4428144 , -0.0580326 ,\n",
       "       -2.8306098 ,  0.05640543,  0.7473664 ,  1.628575  ,  1.2918975 ,\n",
       "        1.1896927 ,  0.13508646, -0.1798144 ,  0.39597875,  0.12163084,\n",
       "        1.0769068 , -2.6404724 ,  0.7128097 ,  0.18574676,  0.9659111 ,\n",
       "       -0.93392605, -0.06702279, -1.3598493 ,  1.8117325 ,  1.42138   ],\n",
       "      dtype=float32)"
      ]
     },
     "execution_count": 17,
     "metadata": {},
     "output_type": "execute_result"
    }
   ],
   "source": [
    "english_embedding_matrix[english_vocab['excuse']]+english_embedding_matrix[english_vocab['me']]"
   ]
  },
  {
   "cell_type": "code",
   "execution_count": null,
   "metadata": {},
   "outputs": [],
   "source": []
  },
  {
   "cell_type": "code",
   "execution_count": null,
   "metadata": {},
   "outputs": [],
   "source": []
  },
  {
   "cell_type": "code",
   "execution_count": 18,
   "metadata": {},
   "outputs": [],
   "source": [
    "transform_x = np.dot(X, WX)"
   ]
  },
  {
   "cell_type": "code",
   "execution_count": 19,
   "metadata": {},
   "outputs": [
    {
     "data": {
      "text/plain": [
       "'कोई'"
      ]
     },
     "execution_count": 19,
     "metadata": {},
     "output_type": "execute_result"
    }
   ],
   "source": [
    "hindi_idx2word[0]"
   ]
  },
  {
   "cell_type": "code",
   "execution_count": 20,
   "metadata": {},
   "outputs": [
    {
     "name": "stdout",
     "output_type": "stream",
     "text": [
      "[ 4.63053510e-02 -5.96961677e-02 -6.28718212e-02  4.41755392e-02\n",
      " -7.42579475e-02 -2.38388386e-02  4.69245277e-02  3.98744643e-02\n",
      " -6.82294443e-02 -1.40330732e-01  9.62985381e-02  7.01462571e-03\n",
      "  8.07450190e-02 -1.17835335e-01  1.03698783e-01  8.84633213e-02\n",
      "  1.46564990e-01  3.16890764e-05 -2.18667954e-01 -3.74034904e-02\n",
      "  7.28726238e-02 -4.61323895e-02 -3.34828421e-02  1.76913273e-02\n",
      "  8.25952888e-02  2.82757580e-02 -6.27151653e-02  9.91098732e-02\n",
      "  1.42784053e-02  4.29493561e-02  6.27091751e-02 -2.88868230e-02\n",
      " -1.49040958e-02  4.73422520e-02 -8.41436163e-02 -2.93554738e-02\n",
      "  1.55689970e-01 -9.37642157e-02 -7.35794753e-02 -1.55795485e-01\n",
      "  6.73232451e-02 -5.97964264e-02 -7.17872530e-02  4.13488187e-02\n",
      "  1.14327326e-01 -1.11538529e-01  2.30286881e-01  2.01665685e-02\n",
      " -1.57701429e-02 -1.71978295e-01  6.90863505e-02  2.33648233e-02\n",
      "  7.73479715e-02 -9.14351568e-02 -7.95619190e-03 -1.12567239e-01\n",
      "  1.07732207e-01 -1.39830932e-01  4.06571552e-02 -1.10408552e-02\n",
      " -7.38289207e-02  1.29505575e-01  2.18382683e-02  6.27892092e-02\n",
      "  1.71150547e-02 -1.79349095e-01  4.50741015e-02 -1.17805965e-01\n",
      " -9.60323215e-03  2.69639313e-01  1.53104067e-01 -5.72117418e-02\n",
      " -3.41800936e-02 -1.14976652e-01 -1.18330777e-01  1.61048651e-01\n",
      " -9.48459357e-02  3.65988687e-02  2.20440533e-02 -1.20136648e-01\n",
      "  1.31583109e-01  1.08210497e-01 -1.72298759e-01  7.81874917e-03\n",
      "  8.18264391e-03  1.09065935e-01  1.13586195e-01  3.08030266e-02\n",
      " -2.17061952e-01 -1.78171489e-02  2.26960048e-01  6.31169155e-02\n",
      "  5.14120124e-02  1.62096500e-01 -7.73772225e-02 -1.19762622e-01\n",
      "  1.46622628e-01  7.51423882e-03 -1.51451156e-01  2.32571345e-02] [-4.39692031e-01  6.14703912e-02  2.55451431e-01  1.56868557e-01\n",
      " -3.68422401e-01  1.37003159e-01 -4.07959114e-02 -7.79676972e-02\n",
      "  2.50632735e-01 -4.46798311e-01 -8.55546396e-02  2.73812805e-01\n",
      "  1.36085830e-01 -2.22608934e-02 -1.79119617e-02  6.37544777e-02\n",
      "  4.41359936e-02  1.31593494e-01  1.80257840e-01  2.02369043e-02\n",
      " -9.93052394e-02 -5.97359289e-02 -9.34590750e-02  4.27347043e-03\n",
      "  5.93206321e-02 -1.14203453e-01  7.28583469e-03  1.49519008e-02\n",
      "  1.42869113e-02 -8.61410891e-02  6.11420409e-02 -1.14622132e-01\n",
      "  1.27915553e-01 -5.81409754e-02  2.50719060e-02  1.46151776e-03\n",
      " -7.78938200e-02 -1.12564637e-01  7.97352285e-02  5.71466888e-02\n",
      "  5.71315321e-02  7.99317084e-03 -3.51262857e-02 -4.01092518e-02\n",
      "  1.33270529e-02 -2.39348571e-02 -5.31630250e-02 -4.78212637e-02\n",
      "  2.72129714e-02 -2.50889949e-02  2.86684705e-02  2.40699792e-02\n",
      "  9.62919326e-03 -3.16320063e-02  5.31187799e-03  1.53365404e-02\n",
      " -5.87004624e-03 -1.30345682e-02 -3.89499067e-03  3.45413445e-03\n",
      "  2.78714921e-03  2.20579583e-03  1.64769844e-03  1.84909887e-02\n",
      "  6.67684207e-03 -8.65292039e-03 -2.61944188e-02  1.02305596e-02\n",
      "  4.57874518e-03  8.40404744e-03  1.97922250e-03  4.87826113e-03\n",
      "  7.64340673e-03  3.03624899e-03  4.15690763e-05 -6.25150941e-03\n",
      " -1.88431029e-03  4.34882715e-03  3.17101779e-03 -1.67120609e-03\n",
      " -4.75056636e-03  3.20869208e-03 -3.02743491e-03 -4.41894091e-03\n",
      "  2.79348262e-03  2.96534074e-03 -8.89397323e-03  2.29679822e-03\n",
      " -6.11042091e-04  1.55459052e-03 -9.37260800e-03 -4.67320158e-04\n",
      "  3.19268791e-05  9.69036019e-05  2.08338009e-03  3.10728349e-03\n",
      " -8.78588404e-04  1.97967273e-03  4.66323206e-03  1.22874152e-03]\n"
     ]
    }
   ],
   "source": [
    "print(X[0], transform_x[0])"
   ]
  },
  {
   "cell_type": "code",
   "execution_count": null,
   "metadata": {},
   "outputs": [],
   "source": []
  },
  {
   "cell_type": "code",
   "execution_count": 21,
   "metadata": {},
   "outputs": [
    {
     "data": {
      "text/plain": [
       "array([ 2.53268141e-02, -2.46875027e-02, -1.03053308e-02, -4.33102300e-03,\n",
       "        2.84499046e-02, -1.47303371e-03, -8.59754233e-03, -1.34157054e-03,\n",
       "       -2.45689401e-03,  1.27837378e-02,  3.37582172e-03,  1.80821938e-03,\n",
       "        7.11572564e-03,  5.96658916e-03, -3.31268736e-03, -6.43079492e-03,\n",
       "       -8.48037235e-04, -4.04037995e-03, -7.79543189e-04,  8.12883330e-04,\n",
       "       -3.14745946e-03, -2.87734681e-05, -1.30360468e-03, -8.34367772e-04,\n",
       "       -2.48064667e-04, -1.94386284e-03,  1.74836561e-03, -8.02949885e-04,\n",
       "        3.80942541e-06,  2.00102257e-04,  1.13167778e-04,  5.86584895e-04,\n",
       "        9.52285611e-04, -4.02565857e-04, -2.95233454e-04, -3.40593526e-04,\n",
       "       -4.33428123e-04,  1.06733188e-04,  1.49147800e-04,  1.42887034e-05,\n",
       "        2.21826520e-04, -4.03443811e-04,  1.14144603e-04,  7.58027649e-05,\n",
       "        3.23612934e-04, -6.43806637e-05, -5.38926466e-05,  1.55478981e-04,\n",
       "        3.04452458e-04, -2.78246508e-05,  8.41120436e-05, -1.43804913e-04,\n",
       "        1.03614716e-04, -3.97821211e-05, -1.47918539e-04, -2.63587568e-05,\n",
       "       -3.53846448e-05, -1.08781425e-05, -2.37556708e-05, -4.20352837e-05,\n",
       "        5.69639086e-05, -6.03869663e-05, -2.79516916e-06,  4.46258803e-05,\n",
       "        5.11933501e-05, -9.29326891e-06,  5.51361181e-05, -2.14826059e-05,\n",
       "       -1.47592647e-05, -1.78442279e-05, -1.50492744e-06, -2.09077209e-05,\n",
       "        2.93897128e-05,  3.35028485e-05,  4.34525289e-05,  8.29284574e-06,\n",
       "       -2.86129961e-06,  1.18759716e-05,  2.12422988e-05,  4.65144016e-06,\n",
       "       -3.37574204e-05,  1.59744373e-05, -1.60707041e-06, -5.26652926e-06,\n",
       "        1.52307061e-06, -1.36888159e-05, -1.41662984e-06, -1.88948585e-05,\n",
       "        4.03895102e-06, -7.92490595e-06,  1.08512908e-05, -3.10340439e-06,\n",
       "       -9.41128553e-06,  4.38574264e-06, -4.17530123e-06,  3.60693555e-06,\n",
       "        2.97246680e-06,  1.18120392e-05, -1.24735813e-05, -4.85945172e-06])"
      ]
     },
     "execution_count": 21,
     "metadata": {},
     "output_type": "execute_result"
    }
   ],
   "source": [
    "np.mean(np.dot(X, WX), axis=0)"
   ]
  },
  {
   "cell_type": "code",
   "execution_count": 22,
   "metadata": {},
   "outputs": [
    {
     "data": {
      "text/plain": [
       "array([ 9.53943750e-04, -1.78154961e-03, -2.47934412e-03,  9.43307675e-04,\n",
       "        8.46739705e-04,  1.24643223e-04,  5.35373616e-04,  3.54508953e-03,\n",
       "       -3.78626546e-03,  4.09086665e-03, -2.85445494e-03,  2.23717580e-03,\n",
       "        2.49460289e-04,  2.33167034e-03,  4.66165179e-03, -5.12875143e-03,\n",
       "        1.63629246e-03,  1.78003879e-03,  2.49442395e-03, -1.55153884e-03,\n",
       "        3.72083531e-03, -1.85375931e-03,  3.03247928e-03, -1.60091444e-03,\n",
       "       -1.80480401e-03,  2.92442295e-03,  5.16664180e-04, -1.49394487e-04,\n",
       "        7.84762632e-04,  1.26522839e-03, -1.47206336e-03, -5.47422467e-03,\n",
       "        1.34815662e-03,  2.40001718e-03,  3.44778956e-03, -2.83883543e-03,\n",
       "       -1.67438190e-03, -1.79063445e-03, -1.59432928e-03, -2.22953886e-03,\n",
       "       -2.52675665e-05,  1.47433590e-04,  8.60458718e-03, -2.60803150e-03,\n",
       "        1.61873961e-03, -2.32969714e-03,  6.36808609e-04,  6.37818066e-04,\n",
       "        4.21552169e-04, -5.91316448e-05,  4.33058646e-03, -1.46910926e-03,\n",
       "       -2.18462176e-03, -5.97474825e-03, -3.62137370e-03,  1.00867325e-03,\n",
       "       -3.14774201e-03, -3.34338532e-03,  2.09339938e-03, -1.78861538e-03,\n",
       "       -4.68640694e-03, -9.70896817e-04, -1.44311739e-03, -1.40658896e-03,\n",
       "        6.47342226e-03, -2.01802109e-03, -3.17912178e-03,  3.58417173e-04,\n",
       "        8.71976248e-04, -4.56710538e-04, -2.23000833e-03, -1.51640515e-03,\n",
       "        7.29676428e-03, -5.91830240e-03, -1.18998020e-03, -3.29700427e-03,\n",
       "       -1.05103403e-03, -8.52262673e-04, -1.07930151e-06, -4.94033831e-03,\n",
       "       -1.86577353e-03, -3.70589875e-03, -6.47214923e-03, -1.62405732e-03,\n",
       "        1.16619315e-03,  2.13314008e-03, -3.09476182e-03,  2.77102607e-03,\n",
       "       -2.81435847e-03, -5.91547482e-04,  2.50847752e-03,  2.35583313e-03,\n",
       "       -1.14990330e-03,  9.40406096e-05, -2.30727206e-03,  5.37403036e-04,\n",
       "        9.00032892e-04, -5.71257126e-03, -4.60864600e-03, -1.19396826e-03])"
      ]
     },
     "execution_count": 22,
     "metadata": {},
     "output_type": "execute_result"
    }
   ],
   "source": [
    "np.mean(np.dot(Y, WY), axis=0)"
   ]
  },
  {
   "cell_type": "code",
   "execution_count": 23,
   "metadata": {},
   "outputs": [
    {
     "ename": "SyntaxError",
     "evalue": "unexpected EOF while parsing (<ipython-input-23-7694719b603f>, line 2)",
     "output_type": "error",
     "traceback": [
      "\u001b[0;36m  File \u001b[0;32m\"<ipython-input-23-7694719b603f>\"\u001b[0;36m, line \u001b[0;32m2\u001b[0m\n\u001b[0;31m    \u001b[0m\n\u001b[0m    ^\u001b[0m\n\u001b[0;31mSyntaxError\u001b[0m\u001b[0;31m:\u001b[0m unexpected EOF while parsing\n"
     ]
    }
   ],
   "source": [
    "for en, hi in pairs:\n",
    "    "
   ]
  },
  {
   "cell_type": "code",
   "execution_count": null,
   "metadata": {},
   "outputs": [],
   "source": []
  },
  {
   "cell_type": "code",
   "execution_count": null,
   "metadata": {},
   "outputs": [],
   "source": []
  }
 ],
 "metadata": {
  "kernelspec": {
   "display_name": "Python 3",
   "language": "python",
   "name": "python3"
  },
  "language_info": {
   "codemirror_mode": {
    "name": "ipython",
    "version": 3
   },
   "file_extension": ".py",
   "mimetype": "text/x-python",
   "name": "python",
   "nbconvert_exporter": "python",
   "pygments_lexer": "ipython3",
   "version": "3.6.7"
  }
 },
 "nbformat": 4,
 "nbformat_minor": 4
}
