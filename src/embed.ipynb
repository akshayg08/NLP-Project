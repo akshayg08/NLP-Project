{
 "cells": [
  {
   "cell_type": "code",
   "execution_count": 1,
   "metadata": {},
   "outputs": [],
   "source": [
    "import os\n",
    "import pickle\n",
    "from pprint import pprint as print\n",
    "\n",
    "import numpy as np\n",
    "\n",
    "from gensim.models.fasttext import FastText as FT_gensim\n",
    "from gensim.test.utils import datapath"
   ]
  },
  {
   "cell_type": "code",
   "execution_count": 2,
   "metadata": {},
   "outputs": [],
   "source": [
    "EMBEDDING_DIM = 100\n",
    "MIN_FREQ = 5"
   ]
  },
  {
   "cell_type": "code",
   "execution_count": 3,
   "metadata": {},
   "outputs": [],
   "source": [
    "def get_embed(path, name):\n",
    "    print('Loading data from {0}'.format(path))\n",
    "    corpus = datapath(os.path.abspath(path))\n",
    "    model = FT_gensim(size = EMBEDDING_DIM, min_count=MIN_FREQ)\n",
    "    \n",
    "    print('Building a vocabulary for the data')\n",
    "    model.build_vocab(corpus_file=corpus)\n",
    "    print('Training fastText embeddings for the data')\n",
    "    model.train(corpus_file=corpus, epochs=model.epochs, total_examples=model.corpus_count, total_words=model.corpus_total_words)\n",
    "\n",
    "    print('Saving the model into {0}'.format(name))\n",
    "    model.wv.save_word2vec_format(name, binary=False)\n",
    "    \n",
    "    new_vocab = {}\n",
    "    embedding_matrix = []\n",
    "    idx = 0\n",
    "\n",
    "    print('Creating Word embedding matrix')\n",
    "    for word in model.wv.vocab:\n",
    "        new_vocab[word] = idx\n",
    "        embedding_matrix.append(model.wv[word])\n",
    "        idx += 1\n",
    "\n",
    "    embedding_matrix = np.array(embedding_matrix)\n",
    "\n",
    "    return new_vocab, embedding_matrix"
   ]
  },
  {
   "cell_type": "code",
   "execution_count": 4,
   "metadata": {},
   "outputs": [
    {
     "name": "stdout",
     "output_type": "stream",
     "text": [
      "'Loading data from ../data/train.hi'\n",
      "'Building a vocabulary for the data'\n",
      "'Training fastText embeddings for the data'\n",
      "'Saving the model into hi_mod.ft'\n",
      "'Creating Word embedding matrix'\n",
      "'Loading data from ../data/train.en'\n",
      "'Building a vocabulary for the data'\n",
      "'Training fastText embeddings for the data'\n",
      "'Saving the model into en_mod.ft'\n",
      "'Creating Word embedding matrix'\n"
     ]
    }
   ],
   "source": [
    "reduced_hindi_vocab, hindi_embedding_matrix = get_embed('../data/train.hi', 'hi_mod.ft')\n",
    "reduced_english_vocab, english_embedding_matrix = get_embed('../data/train.en', 'en_mod.ft')"
   ]
  },
  {
   "cell_type": "code",
   "execution_count": 5,
   "metadata": {},
   "outputs": [
    {
     "name": "stdout",
     "output_type": "stream",
     "text": [
      "'Saving the vocabulary and embedding matrix.'\n"
     ]
    }
   ],
   "source": [
    "print(\"Saving the vocabulary and embedding matrix.\")\n",
    "\n",
    "pickle.dump(reduced_hindi_vocab, open(\"./hindi_vocab.pkl\", \"wb\"))\n",
    "pickle.dump(hindi_embedding_matrix, open(\"./hindi_embedding_matrix.pkl\", \"wb\"))\n",
    "pickle.dump(reduced_english_vocab, open(\"./english_vocab.pkl\", \"wb\"))\n",
    "pickle.dump(english_embedding_matrix, open(\"./english_embedding_matrix.pkl\", \"wb\"))\n"
   ]
  },
  {
   "cell_type": "code",
   "execution_count": null,
   "metadata": {},
   "outputs": [],
   "source": []
  },
  {
   "cell_type": "code",
   "execution_count": null,
   "metadata": {},
   "outputs": [],
   "source": []
  }
 ],
 "metadata": {
  "kernelspec": {
   "display_name": "Python 3",
   "language": "python",
   "name": "python3"
  },
  "language_info": {
   "codemirror_mode": {
    "name": "ipython",
    "version": 3
   },
   "file_extension": ".py",
   "mimetype": "text/x-python",
   "name": "python",
   "nbconvert_exporter": "python",
   "pygments_lexer": "ipython3",
   "version": "3.6.7"
  }
 },
 "nbformat": 4,
 "nbformat_minor": 4
}
