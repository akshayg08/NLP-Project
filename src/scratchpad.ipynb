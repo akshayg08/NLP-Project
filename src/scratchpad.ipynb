{
 "cells": [
  {
   "cell_type": "code",
   "execution_count": 1,
   "metadata": {},
   "outputs": [],
   "source": [
    "import os\n",
    "import pickle\n",
    "from pprint import pprint as print\n",
    "\n",
    "import numpy as np\n",
    "\n",
    "from gensim.models.fasttext import FastText as FT_gensim\n",
    "from gensim.test.utils import datapath"
   ]
  },
  {
   "cell_type": "code",
   "execution_count": 2,
   "metadata": {},
   "outputs": [],
   "source": [
    "EMBEDDING_DIM = 100\n",
    "MIN_FREQ = 5"
   ]
  },
  {
   "cell_type": "code",
   "execution_count": 3,
   "metadata": {},
   "outputs": [],
   "source": [
    "# with open('../data/train.hi') as f:\n",
    "#     corpus_hi = f.readlines()\n",
    "    \n",
    "# with open('../data/train.en') as f:\n",
    "#     corpus_en = f.readlines()\n",
    "\n",
    "corpus_hi = datapath(os.path.abspath('../data/train.hi'))\n",
    "corpus_en = datapath(os.path.abspath('../data/train.en'))\n",
    "\n",
    "modelhi = FT_gensim(size = EMBEDDING_DIM, min_count=MIN_FREQ)\n",
    "modelen = FT_gensim(size = EMBEDDING_DIM, min_count=MIN_FREQ)\n",
    "\n",
    "modelhi.build_vocab(corpus_file=corpus_hi)\n",
    "modelen.build_vocab(corpus_file=corpus_en)"
   ]
  },
  {
   "cell_type": "code",
   "execution_count": 4,
   "metadata": {},
   "outputs": [],
   "source": [
    "modelhi.train(\n",
    "        corpus_file=corpus_hi,\n",
    "        epochs=modelhi.epochs,\n",
    "        total_examples=modelhi.corpus_count,\n",
    "        total_words=modelhi.corpus_total_words\n",
    ")\n",
    "modelen.train(\n",
    "        corpus_file=corpus_en,\n",
    "        epochs=modelen.epochs,\n",
    "        total_examples=modelen.corpus_count,\n",
    "        total_words=modelen.corpus_total_words\n",
    ")"
   ]
  },
  {
   "cell_type": "code",
   "execution_count": 5,
   "metadata": {},
   "outputs": [],
   "source": [
    "modelhi.save('hi_mod.ft')\n",
    "modelen.save('en_mod.ft')"
   ]
  },
  {
   "cell_type": "code",
   "execution_count": 6,
   "metadata": {},
   "outputs": [],
   "source": [
    "new_vocab = {}\n",
    "embedding_matrix = []\n",
    "idx = 0"
   ]
  },
  {
   "cell_type": "code",
   "execution_count": 7,
   "metadata": {},
   "outputs": [],
   "source": [
    "for word, emb in modelhi.wv.vocab.items():\n",
    "    new_vocab[word] = idx\n",
    "    embedding_matrix.append(emb)\n",
    "    idx += 1\n",
    "    \n",
    "embedding_matrix = np.array(embedding_matrix)"
   ]
  },
  {
   "cell_type": "code",
   "execution_count": null,
   "metadata": {},
   "outputs": [],
   "source": []
  }
 ],
 "metadata": {
  "kernelspec": {
   "display_name": "Python 3",
   "language": "python",
   "name": "python3"
  },
  "language_info": {
   "codemirror_mode": {
    "name": "ipython",
    "version": 3
   },
   "file_extension": ".py",
   "mimetype": "text/x-python",
   "name": "python",
   "nbconvert_exporter": "python",
   "pygments_lexer": "ipython3",
   "version": "3.6.7"
  }
 },
 "nbformat": 4,
 "nbformat_minor": 4
}
