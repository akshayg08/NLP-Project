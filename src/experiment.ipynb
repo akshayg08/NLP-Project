{
 "cells": [
  {
   "cell_type": "code",
   "execution_count": 72,
   "metadata": {},
   "outputs": [
    {
     "ename": "ModuleNotFoundError",
     "evalue": "No module named 'seaborn'",
     "output_type": "error",
     "traceback": [
      "\u001b[0;31m---------------------------------------------------------------------------\u001b[0m",
      "\u001b[0;31mModuleNotFoundError\u001b[0m                       Traceback (most recent call last)",
      "\u001b[0;32m<ipython-input-72-03c35d851a9b>\u001b[0m in \u001b[0;36m<module>\u001b[0;34m\u001b[0m\n\u001b[1;32m      2\u001b[0m \u001b[0;32mimport\u001b[0m \u001b[0mnumpy\u001b[0m \u001b[0;32mas\u001b[0m \u001b[0mnp\u001b[0m\u001b[0;34m\u001b[0m\u001b[0;34m\u001b[0m\u001b[0m\n\u001b[1;32m      3\u001b[0m \u001b[0;34m\u001b[0m\u001b[0m\n\u001b[0;32m----> 4\u001b[0;31m \u001b[0;32mimport\u001b[0m \u001b[0mseaborn\u001b[0m \u001b[0;32mas\u001b[0m \u001b[0msns\u001b[0m\u001b[0;34m\u001b[0m\u001b[0;34m\u001b[0m\u001b[0m\n\u001b[0m\u001b[1;32m      5\u001b[0m \u001b[0;32mimport\u001b[0m \u001b[0mmatplotlib\u001b[0m\u001b[0;34m.\u001b[0m\u001b[0mpyplot\u001b[0m \u001b[0;32mas\u001b[0m \u001b[0mplt\u001b[0m\u001b[0;34m\u001b[0m\u001b[0;34m\u001b[0m\u001b[0m\n",
      "\u001b[0;31mModuleNotFoundError\u001b[0m: No module named 'seaborn'"
     ]
    }
   ],
   "source": [
    "import pickle\n",
    "import numpy as np\n",
    "\n",
    "import seaborn as sns\n",
    "import matplotlib.pyplot as plt"
   ]
  },
  {
   "cell_type": "markdown",
   "metadata": {},
   "source": [
    "### Creating helper functions to run the experiment"
   ]
  },
  {
   "cell_type": "code",
   "execution_count": 61,
   "metadata": {},
   "outputs": [],
   "source": [
    "# Normalizing the sorted_MX and sorted_MY\n",
    "def normalize(X):\n",
    "\t# length normalization\n",
    "\tx = X/np.linalg.norm(X, axis = 1).reshape(-1, 1)\n",
    "\t# mean centering each dimension\n",
    "\tx = x - x.mean(axis = 0)\n",
    "\t# length normalizing the mean centered data\n",
    "\tx = x/np.linalg.norm(x, axis = 1).reshape(-1, 1)\n",
    "\treturn x\n",
    "\n",
    "# computing sqaure root of similiarity matrices for both the embedding matrices using svd\n",
    "def sim_matrix(X, size):\n",
    "\tu, s, _ = np.linalg.svd(X[:size], full_matrices = False)\n",
    "\treturn np.dot(u*s, u.T)\n",
    "\n",
    "def distance_matrix(X1, Y1):\n",
    "\tnorm_X1 = np.linalg.norm(X1, axis = 1).reshape(-1,1)**2\n",
    "\tb = np.ones((norm_X1.shape[0], norm_X1.shape[1]+1))\n",
    "\tb[:, :-1] = norm_X1\n",
    "\tnorm_X1 = b\n",
    "\n",
    "\tnorm_Y1 = np.linalg.norm(Y1, axis = 1).reshape(-1,1)**2\n",
    "\tb = np.ones((norm_Y1.shape[0], norm_Y1.shape[1]+1))\n",
    "\tb[:, 1:] = norm_Y1\n",
    "\tnorm_Y1 = b\n",
    "\n",
    "\tdot_p = -2*np.matmul(X1, Y1.T)\n",
    "\td_matrix = np.matmul(norm_X1, norm_Y1.T) + dot_p\n",
    "\treturn d_matrix\n",
    "\n",
    "def create_idx2word_dict(vocab):\n",
    "\tidx2word = {}\n",
    "\tfor i in vocab:\n",
    "\t\tidx2word[vocab[i]] = i\n",
    "\n",
    "\treturn idx2word"
   ]
  },
  {
   "cell_type": "markdown",
   "metadata": {},
   "source": [
    "### Loading hindi english vocabulary and embedding matrices"
   ]
  },
  {
   "cell_type": "code",
   "execution_count": 62,
   "metadata": {},
   "outputs": [],
   "source": [
    "hindi_embedding_matrix = pickle.load(open(\"./hindi_embedding_matrix.pkl\", \"rb\"))\n",
    "english_embedding_matrix = pickle.load(open(\"./english_embedding_matrix.pkl\", \"rb\"))\n",
    "hindi_vocab = pickle.load(open(\"./hindi_vocab.pkl\", \"rb\"))\n",
    "english_vocab = pickle.load(open(\"./english_vocab.pkl\", \"rb\"))\n",
    "\n",
    "hindi_idx2word = create_idx2word_dict(hindi_vocab)\n",
    "english_idx2word = create_idx2word_dict(english_vocab)\n",
    "\n",
    "X = hindi_embedding_matrix\n",
    "Y = english_embedding_matrix\n",
    "D = np.zeros((X.shape[0], Y.shape[0]))\n",
    "\n",
    "SIM_SIZE = min(X.shape[0], Y.shape[0])"
   ]
  },
  {
   "cell_type": "markdown",
   "metadata": {},
   "source": [
    "### Step 1: Normalize Embeddings"
   ]
  },
  {
   "cell_type": "code",
   "execution_count": 63,
   "metadata": {},
   "outputs": [],
   "source": [
    "# normalizing the embeddings\n",
    "X = normalize(X)\n",
    "Y = normalize(Y)"
   ]
  },
  {
   "cell_type": "markdown",
   "metadata": {},
   "source": [
    "### Step 2: Unsupervised Initialization"
   ]
  },
  {
   "cell_type": "code",
   "execution_count": 64,
   "metadata": {},
   "outputs": [
    {
     "name": "stderr",
     "output_type": "stream",
     "text": [
      "/home/zubair/anaconda3/envs/NLP/lib/python3.6/site-packages/ipykernel_launcher.py:6: RuntimeWarning: invalid value encountered in sqrt\n",
      "  \n",
      "/home/zubair/anaconda3/envs/NLP/lib/python3.6/site-packages/ipykernel_launcher.py:7: RuntimeWarning: invalid value encountered in sqrt\n",
      "  import sys\n"
     ]
    }
   ],
   "source": [
    "# similarity matrices\n",
    "MX = sim_matrix(X, SIM_SIZE)\n",
    "MY = sim_matrix(Y, SIM_SIZE)\n",
    "\n",
    "# sorting MX and MY along the rows in order to align them along the j dimension\n",
    "sorted_MX = np.sort(MX, axis = 1)\n",
    "sorted_MY = np.sort(MY, axis = 1)\n",
    "\n",
    "# normalized embeddings for extracting alignment across vocabulary(ith dimension)\n",
    "X1 = normalize(sorted_MX)\n",
    "Y1 = normalize(sorted_MY)"
   ]
  },
  {
   "cell_type": "markdown",
   "metadata": {},
   "source": [
    "### Step 3: Self Learning"
   ]
  },
  {
   "cell_type": "code",
   "execution_count": 70,
   "metadata": {},
   "outputs": [],
   "source": [
    "# constructing initial solution for the iterative algorithm\n",
    "d_matrix = distance_matrix(X1, Y1)\n",
    "nearest_neighbors = d_matrix.argmin(axis = 1)\n",
    "D[range(nearest_neighbors.shape[0]), nearest_neighbors] = 1\n",
    "\n",
    "# training loop\n",
    "num_iter = 10\n",
    "for i in range(num_iter):\n",
    "\t#computing the optimal orthogonal matrix which maximizes the current dict D\n",
    "\tu, s, vh = np.linalg.svd(np.dot(X.T, np.dot(D, Y)))\n",
    "\tWX = u\n",
    "\tWY = vh\n",
    "\n",
    "\t#computing the optimal dictionary using the similarity matrix of the mapped embeddings\n",
    "\tD = np.zeros((X.shape[0], Y.shape[0]))\n",
    "\td_matrix = distance_matrix(np.dot(X, WX), np.dot(Y, WY))\n",
    "\tnearest_neighbors = d_matrix.argmin(axis = 1)\n",
    "\tD[range(nearest_neighbors.shape[0]), nearest_neighbors] = 1\n",
    "\n",
    "# testing\n",
    "d_matrix = distance_matrix(np.dot(X, WX), np.dot(Y, WY))\n",
    "nearest_neighbors = d_matrix.argmin(axis = 1)"
   ]
  },
  {
   "cell_type": "markdown",
   "metadata": {},
   "source": [
    "for i in range(10):\n",
    "    print(hindi_idx2word[i], english_idx2word[nearest_neighbors[i]])"
   ]
  },
  {
   "cell_type": "code",
   "execution_count": 69,
   "metadata": {},
   "outputs": [
    {
     "data": {
      "text/plain": [
       "array([[0., 0., 0., ..., 0., 0., 0.],\n",
       "       [0., 0., 0., ..., 0., 0., 0.],\n",
       "       [0., 0., 0., ..., 0., 0., 0.],\n",
       "       ...,\n",
       "       [0., 0., 0., ..., 0., 0., 0.],\n",
       "       [0., 0., 0., ..., 0., 0., 0.],\n",
       "       [0., 0., 0., ..., 0., 0., 0.]])"
      ]
     },
     "execution_count": 69,
     "metadata": {},
     "output_type": "execute_result"
    }
   ],
   "source": [
    "D"
   ]
  },
  {
   "cell_type": "code",
   "execution_count": null,
   "metadata": {},
   "outputs": [],
   "source": []
  },
  {
   "cell_type": "code",
   "execution_count": 71,
   "metadata": {},
   "outputs": [],
   "source": [
    "word_pairs = [\n",
    "    ['और', 'and'],\n",
    "    ['उसकी', 'his'],\n",
    "    ['उसकी', 'and']\n",
    "#     ['यहूद', 'were'],\n",
    "#     ['लेख', 'article'],\n",
    "]"
   ]
  },
  {
   "cell_type": "markdown",
   "metadata": {},
   "source": [
    "## Visualisation"
   ]
  },
  {
   "cell_type": "code",
   "execution_count": 68,
   "metadata": {},
   "outputs": [
    {
     "data": {
      "image/png": "[encoded data removed]",
      "text/plain": [
       "<Figure size 432x288 with 2 Axes>"
      ]
     },
     "metadata": {
      "needs_background": "light"
     },
     "output_type": "display_data"
    },
    {
     "data": {
      "image/png": "[encoded data removed]",
      "text/plain": [
       "<Figure size 432x288 with 2 Axes>"
      ]
     },
     "metadata": {
      "needs_background": "light"
     },
     "output_type": "display_data"
    },
    {
     "data": {
      "image/png": "[encoded data removed]",
      "text/plain": [
       "<Figure size 432x288 with 2 Axes>"
      ]
     },
     "metadata": {
      "needs_background": "light"
     },
     "output_type": "display_data"
    }
   ],
   "source": [
    "for hi, en in word_pairs:\n",
    "    hi_index = hindi_vocab[hi]\n",
    "    en_index = english_vocab[en]\n",
    "    \n",
    "    hi_mean = sorted_MX[hi_index]\n",
    "    en_mean = sorted_MY[en_index]\n",
    "    \n",
    "    plt.subplot(1,2,1)\n",
    "    plt.title('Distribution for {0}'.format(hi))\n",
    "    plt.plot(hi_mean)\n",
    "    \n",
    "    plt.subplot(1,2,2)\n",
    "    plt.title('Distribution for {0}'.format(en))\n",
    "    plt.plot(en_mean)\n",
    "    \n",
    "    plt.show()"
   ]
  },
  {
   "cell_type": "code",
   "execution_count": null,
   "metadata": {},
   "outputs": [],
   "source": []
  },
  {
   "cell_type": "code",
   "execution_count": null,
   "metadata": {},
   "outputs": [],
   "source": []
  },
  {
   "cell_type": "code",
   "execution_count": null,
   "metadata": {},
   "outputs": [],
   "source": []
  },
  {
   "cell_type": "code",
   "execution_count": null,
   "metadata": {},
   "outputs": [],
   "source": []
  },
  {
   "cell_type": "code",
   "execution_count": null,
   "metadata": {},
   "outputs": [],
   "source": []
  },
  {
   "cell_type": "code",
   "execution_count": null,
   "metadata": {},
   "outputs": [],
   "source": []
  },
  {
   "cell_type": "code",
   "execution_count": null,
   "metadata": {},
   "outputs": [],
   "source": []
  },
  {
   "cell_type": "code",
   "execution_count": null,
   "metadata": {},
   "outputs": [],
   "source": []
  },
  {
   "cell_type": "code",
   "execution_count": null,
   "metadata": {},
   "outputs": [],
   "source": []
  },
  {
   "cell_type": "code",
   "execution_count": null,
   "metadata": {},
   "outputs": [],
   "source": []
  },
  {
   "cell_type": "code",
   "execution_count": null,
   "metadata": {},
   "outputs": [],
   "source": []
  },
  {
   "cell_type": "code",
   "execution_count": null,
   "metadata": {},
   "outputs": [],
   "source": []
  },
  {
   "cell_type": "code",
   "execution_count": null,
   "metadata": {},
   "outputs": [],
   "source": []
  },
  {
   "cell_type": "code",
   "execution_count": null,
   "metadata": {},
   "outputs": [],
   "source": []
  },
  {
   "cell_type": "code",
   "execution_count": null,
   "metadata": {},
   "outputs": [],
   "source": []
  },
  {
   "cell_type": "code",
   "execution_count": 29,
   "metadata": {},
   "outputs": [],
   "source": [
    "transform_x = np.dot(X, WX)"
   ]
  },
  {
   "cell_type": "code",
   "execution_count": 33,
   "metadata": {},
   "outputs": [
    {
     "data": {
      "text/plain": [
       "'कोई'"
      ]
     },
     "execution_count": 33,
     "metadata": {},
     "output_type": "execute_result"
    }
   ],
   "source": [
    "hindi_idx2word[0]"
   ]
  },
  {
   "cell_type": "code",
   "execution_count": 35,
   "metadata": {},
   "outputs": [
    {
     "name": "stdout",
     "output_type": "stream",
     "text": [
      "[ 4.63053510e-02 -5.96961677e-02 -6.28718212e-02  4.41755392e-02\n",
      " -7.42579475e-02 -2.38388386e-02  4.69245277e-02  3.98744643e-02\n",
      " -6.82294443e-02 -1.40330732e-01  9.62985381e-02  7.01462571e-03\n",
      "  8.07450190e-02 -1.17835335e-01  1.03698783e-01  8.84633213e-02\n",
      "  1.46564990e-01  3.16890764e-05 -2.18667954e-01 -3.74034904e-02\n",
      "  7.28726238e-02 -4.61323895e-02 -3.34828421e-02  1.76913273e-02\n",
      "  8.25952888e-02  2.82757580e-02 -6.27151653e-02  9.91098732e-02\n",
      "  1.42784053e-02  4.29493561e-02  6.27091751e-02 -2.88868230e-02\n",
      " -1.49040958e-02  4.73422520e-02 -8.41436163e-02 -2.93554738e-02\n",
      "  1.55689970e-01 -9.37642157e-02 -7.35794753e-02 -1.55795485e-01\n",
      "  6.73232451e-02 -5.97964264e-02 -7.17872530e-02  4.13488187e-02\n",
      "  1.14327326e-01 -1.11538529e-01  2.30286881e-01  2.01665685e-02\n",
      " -1.57701429e-02 -1.71978295e-01  6.90863505e-02  2.33648233e-02\n",
      "  7.73479715e-02 -9.14351568e-02 -7.95619190e-03 -1.12567239e-01\n",
      "  1.07732207e-01 -1.39830932e-01  4.06571552e-02 -1.10408552e-02\n",
      " -7.38289207e-02  1.29505575e-01  2.18382683e-02  6.27892092e-02\n",
      "  1.71150547e-02 -1.79349095e-01  4.50741015e-02 -1.17805965e-01\n",
      " -9.60323215e-03  2.69639313e-01  1.53104067e-01 -5.72117418e-02\n",
      " -3.41800936e-02 -1.14976652e-01 -1.18330777e-01  1.61048651e-01\n",
      " -9.48459357e-02  3.65988687e-02  2.20440533e-02 -1.20136648e-01\n",
      "  1.31583109e-01  1.08210497e-01 -1.72298759e-01  7.81874917e-03\n",
      "  8.18264391e-03  1.09065935e-01  1.13586195e-01  3.08030266e-02\n",
      " -2.17061952e-01 -1.78171489e-02  2.26960048e-01  6.31169155e-02\n",
      "  5.14120124e-02  1.62096500e-01 -7.73772225e-02 -1.19762622e-01\n",
      "  1.46622628e-01  7.51423882e-03 -1.51451156e-01  2.32571345e-02] [-4.39692031e-01  6.14703912e-02  2.55451431e-01  1.56868557e-01\n",
      " -3.68422401e-01  1.37003159e-01 -4.07959114e-02 -7.79676972e-02\n",
      "  2.50632735e-01 -4.46798311e-01 -8.55546396e-02  2.73812805e-01\n",
      "  1.36085830e-01 -2.22608934e-02 -1.79119617e-02  6.37544777e-02\n",
      "  4.41359936e-02  1.31593494e-01  1.80257840e-01  2.02369043e-02\n",
      " -9.93052394e-02 -5.97359289e-02 -9.34590750e-02  4.27347043e-03\n",
      "  5.93206321e-02 -1.14203453e-01  7.28583469e-03  1.49519008e-02\n",
      "  1.42869113e-02 -8.61410891e-02  6.11420409e-02 -1.14622132e-01\n",
      "  1.27915553e-01 -5.81409754e-02  2.50719060e-02  1.46151776e-03\n",
      " -7.78938200e-02 -1.12564637e-01  7.97352285e-02  5.71466888e-02\n",
      "  5.71315321e-02  7.99317084e-03 -3.51262857e-02 -4.01092518e-02\n",
      "  1.33270529e-02 -2.39348571e-02 -5.31630250e-02 -4.78212637e-02\n",
      "  2.72129714e-02 -2.50889949e-02  2.86684705e-02  2.40699792e-02\n",
      "  9.62919326e-03 -3.16320063e-02  5.31187799e-03  1.53365404e-02\n",
      " -5.87004624e-03 -1.30345682e-02 -3.89499067e-03  3.45413445e-03\n",
      "  2.78714921e-03  2.20579583e-03  1.64769844e-03  1.84909887e-02\n",
      "  6.67684207e-03 -8.65292039e-03 -2.61944188e-02  1.02305596e-02\n",
      "  4.57874518e-03  8.40404744e-03  1.97922250e-03  4.87826113e-03\n",
      "  7.64340673e-03  3.03624899e-03  4.15690763e-05 -6.25150941e-03\n",
      " -1.88431029e-03  4.34882715e-03  3.17101779e-03 -1.67120609e-03\n",
      " -4.75056636e-03  3.20869208e-03 -3.02743491e-03 -4.41894091e-03\n",
      "  2.79348262e-03  2.96534074e-03 -8.89397323e-03  2.29679822e-03\n",
      " -6.11042091e-04  1.55459052e-03 -9.37260800e-03 -4.67320158e-04\n",
      "  3.19268791e-05  9.69036019e-05  2.08338009e-03  3.10728349e-03\n",
      " -8.78588404e-04  1.97967273e-03  4.66323206e-03  1.22874152e-03]\n"
     ]
    }
   ],
   "source": [
    "print(X[0], transform_x[0])"
   ]
  },
  {
   "cell_type": "code",
   "execution_count": 10,
   "metadata": {},
   "outputs": [
    {
     "data": {
      "text/plain": [
       "83"
      ]
     },
     "execution_count": 10,
     "metadata": {},
     "output_type": "execute_result"
    }
   ],
   "source": []
  },
  {
   "cell_type": "code",
   "execution_count": 27,
   "metadata": {},
   "outputs": [
    {
     "data": {
      "text/plain": [
       "array([ 2.53268141e-02, -2.46875027e-02, -1.03053308e-02, -4.33102300e-03,\n",
       "        2.84499046e-02, -1.47303371e-03, -8.59754233e-03, -1.34157054e-03,\n",
       "       -2.45689401e-03,  1.27837378e-02,  3.37582172e-03,  1.80821938e-03,\n",
       "        7.11572564e-03,  5.96658916e-03, -3.31268736e-03, -6.43079492e-03,\n",
       "       -8.48037235e-04, -4.04037995e-03, -7.79543189e-04,  8.12883330e-04,\n",
       "       -3.14745946e-03, -2.87734681e-05, -1.30360468e-03, -8.34367772e-04,\n",
       "       -2.48064667e-04, -1.94386284e-03,  1.74836561e-03, -8.02949885e-04,\n",
       "        3.80942541e-06,  2.00102257e-04,  1.13167778e-04,  5.86584895e-04,\n",
       "        9.52285611e-04, -4.02565857e-04, -2.95233454e-04, -3.40593526e-04,\n",
       "       -4.33428123e-04,  1.06733188e-04,  1.49147800e-04,  1.42887034e-05,\n",
       "        2.21826520e-04, -4.03443811e-04,  1.14144603e-04,  7.58027649e-05,\n",
       "        3.23612934e-04, -6.43806637e-05, -5.38926466e-05,  1.55478981e-04,\n",
       "        3.04452458e-04, -2.78246508e-05,  8.41120436e-05, -1.43804913e-04,\n",
       "        1.03614716e-04, -3.97821211e-05, -1.47918539e-04, -2.63587568e-05,\n",
       "       -3.53846448e-05, -1.08781425e-05, -2.37556708e-05, -4.20352837e-05,\n",
       "        5.69639086e-05, -6.03869663e-05, -2.79516916e-06,  4.46258803e-05,\n",
       "        5.11933501e-05, -9.29326891e-06,  5.51361181e-05, -2.14826059e-05,\n",
       "       -1.47592647e-05, -1.78442279e-05, -1.50492744e-06, -2.09077209e-05,\n",
       "        2.93897128e-05,  3.35028485e-05,  4.34525289e-05,  8.29284574e-06,\n",
       "       -2.86129961e-06,  1.18759716e-05,  2.12422988e-05,  4.65144016e-06,\n",
       "       -3.37574204e-05,  1.59744373e-05, -1.60707041e-06, -5.26652926e-06,\n",
       "        1.52307061e-06, -1.36888159e-05, -1.41662984e-06, -1.88948585e-05,\n",
       "        4.03895102e-06, -7.92490595e-06,  1.08512908e-05, -3.10340439e-06,\n",
       "       -9.41128553e-06,  4.38574264e-06, -4.17530123e-06,  3.60693555e-06,\n",
       "        2.97246680e-06,  1.18120392e-05, -1.24735813e-05, -4.85945172e-06])"
      ]
     },
     "execution_count": 27,
     "metadata": {},
     "output_type": "execute_result"
    }
   ],
   "source": [
    "np.mean(np.dot(X, WX), axis=0)"
   ]
  },
  {
   "cell_type": "code",
   "execution_count": 28,
   "metadata": {},
   "outputs": [
    {
     "data": {
      "text/plain": [
       "array([ 9.53943750e-04, -1.78154961e-03, -2.47934412e-03,  9.43307675e-04,\n",
       "        8.46739705e-04,  1.24643223e-04,  5.35373616e-04,  3.54508953e-03,\n",
       "       -3.78626546e-03,  4.09086665e-03, -2.85445494e-03,  2.23717580e-03,\n",
       "        2.49460289e-04,  2.33167034e-03,  4.66165179e-03, -5.12875143e-03,\n",
       "        1.63629246e-03,  1.78003879e-03,  2.49442395e-03, -1.55153884e-03,\n",
       "        3.72083531e-03, -1.85375931e-03,  3.03247928e-03, -1.60091444e-03,\n",
       "       -1.80480401e-03,  2.92442295e-03,  5.16664180e-04, -1.49394487e-04,\n",
       "        7.84762632e-04,  1.26522839e-03, -1.47206336e-03, -5.47422467e-03,\n",
       "        1.34815662e-03,  2.40001718e-03,  3.44778956e-03, -2.83883543e-03,\n",
       "       -1.67438190e-03, -1.79063445e-03, -1.59432928e-03, -2.22953886e-03,\n",
       "       -2.52675665e-05,  1.47433590e-04,  8.60458718e-03, -2.60803150e-03,\n",
       "        1.61873961e-03, -2.32969714e-03,  6.36808609e-04,  6.37818066e-04,\n",
       "        4.21552169e-04, -5.91316448e-05,  4.33058646e-03, -1.46910926e-03,\n",
       "       -2.18462176e-03, -5.97474825e-03, -3.62137370e-03,  1.00867325e-03,\n",
       "       -3.14774201e-03, -3.34338532e-03,  2.09339938e-03, -1.78861538e-03,\n",
       "       -4.68640694e-03, -9.70896817e-04, -1.44311739e-03, -1.40658896e-03,\n",
       "        6.47342226e-03, -2.01802109e-03, -3.17912178e-03,  3.58417173e-04,\n",
       "        8.71976248e-04, -4.56710538e-04, -2.23000833e-03, -1.51640515e-03,\n",
       "        7.29676428e-03, -5.91830240e-03, -1.18998020e-03, -3.29700427e-03,\n",
       "       -1.05103403e-03, -8.52262673e-04, -1.07930151e-06, -4.94033831e-03,\n",
       "       -1.86577353e-03, -3.70589875e-03, -6.47214923e-03, -1.62405732e-03,\n",
       "        1.16619315e-03,  2.13314008e-03, -3.09476182e-03,  2.77102607e-03,\n",
       "       -2.81435847e-03, -5.91547482e-04,  2.50847752e-03,  2.35583313e-03,\n",
       "       -1.14990330e-03,  9.40406096e-05, -2.30727206e-03,  5.37403036e-04,\n",
       "        9.00032892e-04, -5.71257126e-03, -4.60864600e-03, -1.19396826e-03])"
      ]
     },
     "execution_count": 28,
     "metadata": {},
     "output_type": "execute_result"
    }
   ],
   "source": [
    "np.mean(np.dot(Y, WY), axis=0)"
   ]
  },
  {
   "cell_type": "code",
   "execution_count": null,
   "metadata": {},
   "outputs": [],
   "source": [
    "for en, hi in pairs:\n",
    "    "
   ]
  },
  {
   "cell_type": "code",
   "execution_count": 8,
   "metadata": {},
   "outputs": [
    {
     "name": "stdout",
     "output_type": "stream",
     "text": [
      "कोई fanfare\n",
      "भी play\n",
      "बीमारी plate\n",
      "होने nut\n",
      "पर windows\n",
      "नियमित parks\n",
      "चेकअप settlement\n",
      "कराएँ count\n",
      ", names\n",
      "लापरवाही Joy\n"
     ]
    }
   ],
   "source": []
  }
 ],
 "metadata": {
  "kernelspec": {
   "display_name": "Python 3",
   "language": "python",
   "name": "python3"
  },
  "language_info": {
   "codemirror_mode": {
    "name": "ipython",
    "version": 3
   },
   "file_extension": ".py",
   "mimetype": "text/x-python",
   "name": "python",
   "nbconvert_exporter": "python",
   "pygments_lexer": "ipython3",
   "version": "3.6.7"
  }
 },
 "nbformat": 4,
 "nbformat_minor": 4
}
